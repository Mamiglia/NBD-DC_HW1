{
 "cells": [
  {
   "cell_type": "markdown",
   "metadata": {},
   "source": [
    "# Part 2 - Network load evaluation\n"
   ]
  },
  {
   "cell_type": "code",
   "execution_count": 1,
   "metadata": {},
   "outputs": [],
   "source": [
    "%load_ext autoreload\n",
    "%autoreload 2\n",
    "import numpy as np \n",
    "import pandas as pd\n",
    "import seaborn as sns\n",
    "import matplotlib.pyplot as plt \n",
    "\n",
    "from tqdm import tqdm, trange\n",
    "\n",
    "from package import constants\n",
    "from package.connectivity import bfs_is_connected\n",
    "# from networkx import erdos_renyi_graph, random_regular_graph, adjacency_matrix\n",
    "import networkx as nx\n",
    "\n",
    "N = 10000"
   ]
  },
  {
   "cell_type": "code",
   "execution_count": 2,
   "metadata": {},
   "outputs": [],
   "source": [
    "from package.graph_utilities import leaves, n_closest, arg_n_smallest, select_nodes"
   ]
  },
  {
   "cell_type": "markdown",
   "metadata": {},
   "source": [
    "## 2.1\n",
    "\n",
    "We first define the two networks, also attaching and defining which nodes of the network are servers and which are routers."
   ]
  },
  {
   "cell_type": "markdown",
   "metadata": {},
   "source": [
    "### r-Regular Graph:\n"
   ]
  },
  {
   "cell_type": "code",
   "execution_count": 3,
   "metadata": {},
   "outputs": [],
   "source": [
    "k = constants.n_ports//2\n",
    "# create core random routers graph\n",
    "rrg = nx.random_regular_graph(d = k, n=N//k+1)\n",
    "while not bfs_is_connected(rrg):\n",
    "    rrg = nx.random_regular_graph(d = k, n=N//k+1)\n",
    "\n",
    "# add endpoints\n",
    "for n in list(rrg.nodes()):\n",
    "    endnodes = range(-n*k-1,-(n+1)*k-1,-1)\n",
    "    rrg.add_nodes_from(endnodes, server=True)\n",
    "    rrg.add_edges_from(zip([n]*k,endnodes))\n",
    "rrg_servers = leaves(rrg)"
   ]
  },
  {
   "cell_type": "markdown",
   "metadata": {},
   "source": [
    "### Fat-Tree graph\n",
    "we assume that when considering only the number of jumps between two different servers, a fat-tree is equivalent to a tree."
   ]
  },
  {
   "cell_type": "code",
   "execution_count": 98,
   "metadata": {},
   "outputs": [],
   "source": [
    "ft = nx.full_rary_tree(r = k, n=sum(k**i for i in range(4)))\n",
    "\n",
    "# define endpoints\n",
    "ft_servers = leaves(ft)\n",
    "ft.add_nodes_from(ft_servers, server=True)"
   ]
  },
  {
   "cell_type": "code",
   "execution_count": 99,
   "metadata": {},
   "outputs": [
    {
     "data": {
      "text/plain": [
       "32768"
      ]
     },
     "execution_count": 99,
     "metadata": {},
     "output_type": "execute_result"
    }
   ],
   "source": [
    "len(ft_servers)"
   ]
  },
  {
   "cell_type": "markdown",
   "metadata": {},
   "source": [
    "### Simulation of Response Time\n",
    "We can simulate the response time by computing the average throughput, and then sampling from some distributions"
   ]
  },
  {
   "cell_type": "code",
   "execution_count": 100,
   "metadata": {},
   "outputs": [
    {
     "data": {
      "text/plain": [
       "10155.38137744872"
      ]
     },
     "execution_count": 100,
     "metadata": {},
     "output_type": "execute_result"
    }
   ],
   "source": [
    "def response_time(g: nx.Graph, N: int, src: int, servers : set, targets :dict = None):\n",
    "    targets = n_closest(g, N, src, servers) if targets is None else targets\n",
    "    h = np.fromiter(targets.values(), dtype=int) # number of hops\n",
    "    rtt = 2 * constants.propagation_time * h\n",
    "    throughput = constants.capacity / rtt / sum(1/rtt)\n",
    "    \n",
    "    input_data = constants.input_data_size / N\n",
    "    \n",
    "    output_data = np.random.uniform(0, 2*constants.output_data_size / N, N)\n",
    "    # uniform distribution in [0, 2 * output_size / N]\n",
    "    \n",
    "    transferred_data = input_data + output_data + input_data*constants.packet_overhead\n",
    "    transfer_time = transferred_data / throughput\n",
    "    \n",
    "    \n",
    "    computation_time = constants.setup_time + np.random.exponential(constants.mean_total_compute_time/N, N)\n",
    "    \n",
    "    return max(computation_time + transfer_time)\n",
    "\n",
    "response_time(rrg, 1000, -1, select_nodes(rrg, server=True))"
   ]
  },
  {
   "cell_type": "markdown",
   "metadata": {},
   "source": [
    "### Mean Response time\n",
    "This is the same thing as above, but this time no sampling is involved and only the mean is taken.\n",
    "\n",
    "```\n",
    "Algo(h):\n",
    "    h <- ...\n",
    "   \n",
    "```"
   ]
  },
  {
   "cell_type": "code",
   "execution_count": 101,
   "metadata": {},
   "outputs": [
    {
     "data": {
      "text/plain": [
       "6820.463692799909"
      ]
     },
     "execution_count": 101,
     "metadata": {},
     "output_type": "execute_result"
    }
   ],
   "source": [
    "def mean_response_time(g: nx.Graph, N: int, src: int, servers : set, targets :dict = None):\n",
    "    targets = n_closest(g, N, src, servers) if targets is None else targets\n",
    "    h = np.fromiter(targets.values(), dtype=int) # number of hops\n",
    "    rtt = 2 * constants.propagation_time * h\n",
    "    throughput = min( constants.capacity / rtt / sum(1/rtt) )\n",
    "    \n",
    "    input_data = constants.input_data_size / N\n",
    "    \n",
    "    output_data = constants.output_data_size / N\n",
    "    # uniform distribution in [0, 2 * output_size / N]\n",
    "    \n",
    "    transferred_data = input_data + output_data + input_data*constants.packet_overhead\n",
    "    transfer_time = transferred_data / throughput\n",
    "    \n",
    "    \n",
    "    computation_time = constants.setup_time + constants.mean_total_compute_time/N\n",
    "    \n",
    "    return computation_time + transfer_time\n",
    "\n",
    "mean_response_time(rrg, 1000, -1, select_nodes(rrg, server=True))"
   ]
  },
  {
   "cell_type": "markdown",
   "metadata": {},
   "source": [
    "## 2.2 Simulation"
   ]
  },
  {
   "cell_type": "code",
   "execution_count": 102,
   "metadata": {},
   "outputs": [],
   "source": [
    "N = 10000\n",
    "\n",
    "def simulation(g, N):\n",
    "    sn = select_nodes(g, server=True)\n",
    "    \n",
    "    src= next(iter(sn))\n",
    "    sp = sorted(n_closest(g, N, src, sn).items(), key = lambda x: x[1])\n",
    "    sp = {n:dict(sp[:n]) for n in range(1, N+1)}\n",
    "    \n",
    "    trials = pd.DataFrame(dict(\n",
    "        N = list(range(1, N+1)),\n",
    "    ))\n",
    "\n",
    "    tqdm.pandas(desc='Response Simulation')\n",
    "    trials['R'] = trials.N.progress_map(\n",
    "        lambda n: mean_response_time(g, n, src, sn, sp[n])\n",
    "    )\n",
    "    return trials\n"
   ]
  },
  {
   "cell_type": "code",
   "execution_count": 103,
   "metadata": {},
   "outputs": [
    {
     "name": "stderr",
     "output_type": "stream",
     "text": [
      "Response Simulation: 100%|███████████████████████████████████████████████████████████████████████| 10000/10000 [00:10<00:00, 976.52it/s]\n",
      "Response Simulation: 100%|██████████████████████████████████████████████████████████████████████| 10000/10000 [00:09<00:00, 1011.67it/s]\n"
     ]
    },
    {
     "data": {
      "text/html": [
       "<div>\n",
       "<style scoped>\n",
       "    .dataframe tbody tr th:only-of-type {\n",
       "        vertical-align: middle;\n",
       "    }\n",
       "\n",
       "    .dataframe tbody tr th {\n",
       "        vertical-align: top;\n",
       "    }\n",
       "\n",
       "    .dataframe thead th {\n",
       "        text-align: right;\n",
       "    }\n",
       "</style>\n",
       "<table border=\"1\" class=\"dataframe\">\n",
       "  <thead>\n",
       "    <tr style=\"text-align: right;\">\n",
       "      <th></th>\n",
       "      <th>kind</th>\n",
       "      <th>N</th>\n",
       "      <th>R</th>\n",
       "    </tr>\n",
       "  </thead>\n",
       "  <tbody>\n",
       "    <tr>\n",
       "      <th>0</th>\n",
       "      <td>Fat-Tree</td>\n",
       "      <td>1</td>\n",
       "      <td>35488.457600</td>\n",
       "    </tr>\n",
       "    <tr>\n",
       "      <th>1</th>\n",
       "      <td>Fat-Tree</td>\n",
       "      <td>2</td>\n",
       "      <td>21088.457600</td>\n",
       "    </tr>\n",
       "    <tr>\n",
       "      <th>2</th>\n",
       "      <td>Fat-Tree</td>\n",
       "      <td>3</td>\n",
       "      <td>16288.457600</td>\n",
       "    </tr>\n",
       "    <tr>\n",
       "      <th>3</th>\n",
       "      <td>Fat-Tree</td>\n",
       "      <td>4</td>\n",
       "      <td>13888.457600</td>\n",
       "    </tr>\n",
       "    <tr>\n",
       "      <th>4</th>\n",
       "      <td>Fat-Tree</td>\n",
       "      <td>5</td>\n",
       "      <td>12448.457600</td>\n",
       "    </tr>\n",
       "    <tr>\n",
       "      <th>...</th>\n",
       "      <td>...</td>\n",
       "      <td>...</td>\n",
       "      <td>...</td>\n",
       "    </tr>\n",
       "    <tr>\n",
       "      <th>19995</th>\n",
       "      <td>Jellyfish</td>\n",
       "      <td>9996</td>\n",
       "      <td>8637.163522</td>\n",
       "    </tr>\n",
       "    <tr>\n",
       "      <th>19996</th>\n",
       "      <td>Jellyfish</td>\n",
       "      <td>9997</td>\n",
       "      <td>8636.968593</td>\n",
       "    </tr>\n",
       "    <tr>\n",
       "      <th>19997</th>\n",
       "      <td>Jellyfish</td>\n",
       "      <td>9998</td>\n",
       "      <td>8636.773702</td>\n",
       "    </tr>\n",
       "    <tr>\n",
       "      <th>19998</th>\n",
       "      <td>Jellyfish</td>\n",
       "      <td>9999</td>\n",
       "      <td>8636.578851</td>\n",
       "    </tr>\n",
       "    <tr>\n",
       "      <th>19999</th>\n",
       "      <td>Jellyfish</td>\n",
       "      <td>10000</td>\n",
       "      <td>8636.384039</td>\n",
       "    </tr>\n",
       "  </tbody>\n",
       "</table>\n",
       "<p>20000 rows × 3 columns</p>\n",
       "</div>"
      ],
      "text/plain": [
       "            kind      N             R\n",
       "0       Fat-Tree      1  35488.457600\n",
       "1       Fat-Tree      2  21088.457600\n",
       "2       Fat-Tree      3  16288.457600\n",
       "3       Fat-Tree      4  13888.457600\n",
       "4       Fat-Tree      5  12448.457600\n",
       "...          ...    ...           ...\n",
       "19995  Jellyfish   9996   8637.163522\n",
       "19996  Jellyfish   9997   8636.968593\n",
       "19997  Jellyfish   9998   8636.773702\n",
       "19998  Jellyfish   9999   8636.578851\n",
       "19999  Jellyfish  10000   8636.384039\n",
       "\n",
       "[20000 rows x 3 columns]"
      ]
     },
     "execution_count": 103,
     "metadata": {},
     "output_type": "execute_result"
    }
   ],
   "source": [
    "trials = pd.concat([\n",
    "    simulation(ft,  N),\n",
    "    simulation(rrg, N)\n",
    "], \n",
    "    keys=['Fat-Tree','Jellyfish'],\n",
    "    names=['kind', 'id']\n",
    ")\n",
    "trials = trials.reset_index(level='kind').reset_index(drop=True)\n",
    "trials"
   ]
  },
  {
   "cell_type": "code",
   "execution_count": 104,
   "metadata": {},
   "outputs": [],
   "source": [
    "R_baseline = constants.setup_time + constants.mean_total_compute_time\n",
    "trials['R_scaled'] = trials.R / R_baseline"
   ]
  },
  {
   "cell_type": "markdown",
   "metadata": {},
   "source": [
    "### Response Plot:"
   ]
  },
  {
   "cell_type": "code",
   "execution_count": 105,
   "metadata": {},
   "outputs": [
    {
     "data": {
      "text/plain": [
       "Text(9000, 0.95, 'baseline')"
      ]
     },
     "execution_count": 105,
     "metadata": {},
     "output_type": "execute_result"
    },
    {
     "data": {
      "image/png": "[encoded data removed]",
      "text/plain": [
       "<Figure size 640x480 with 1 Axes>"
      ]
     },
     "metadata": {},
     "output_type": "display_data"
    }
   ],
   "source": [
    "sns.set_style('darkgrid')\n",
    "baseline_color = sns.color_palette('muted')[2]\n",
    "ax = sns.lineplot(\n",
    "    trials, \n",
    "    x = 'N', \n",
    "    y = 'R_scaled',\n",
    "    hue = 'kind'\n",
    ")\n",
    "ax.set(\n",
    "    title = 'Response Time as a function of N',\n",
    "    ylabel = 'Response time'\n",
    ")\n",
    "plt.axhline(y=1, color=baseline_color, linestyle = '--')\n",
    "plt.annotate('baseline', xy = (9000, .95), color = baseline_color)"
   ]
  },
  {
   "cell_type": "markdown",
   "metadata": {},
   "source": [
    "## 2.3 Job Cost"
   ]
  },
  {
   "cell_type": "code",
   "execution_count": 106,
   "metadata": {},
   "outputs": [
    {
     "data": {
      "text/html": [
       "<div>\n",
       "<style scoped>\n",
       "    .dataframe tbody tr th:only-of-type {\n",
       "        vertical-align: middle;\n",
       "    }\n",
       "\n",
       "    .dataframe tbody tr th {\n",
       "        vertical-align: top;\n",
       "    }\n",
       "\n",
       "    .dataframe thead th {\n",
       "        text-align: right;\n",
       "    }\n",
       "</style>\n",
       "<table border=\"1\" class=\"dataframe\">\n",
       "  <thead>\n",
       "    <tr style=\"text-align: right;\">\n",
       "      <th></th>\n",
       "      <th>kind</th>\n",
       "      <th>N</th>\n",
       "      <th>R</th>\n",
       "      <th>R_scaled</th>\n",
       "      <th>Theta</th>\n",
       "      <th>S</th>\n",
       "      <th>S_scaled</th>\n",
       "    </tr>\n",
       "  </thead>\n",
       "  <tbody>\n",
       "    <tr>\n",
       "      <th>0</th>\n",
       "      <td>Fat-Tree</td>\n",
       "      <td>1</td>\n",
       "      <td>35488.457600</td>\n",
       "      <td>1.230956</td>\n",
       "      <td>28830</td>\n",
       "      <td>38371.457600</td>\n",
       "      <td>1.209960</td>\n",
       "    </tr>\n",
       "    <tr>\n",
       "      <th>1</th>\n",
       "      <td>Fat-Tree</td>\n",
       "      <td>2</td>\n",
       "      <td>21088.457600</td>\n",
       "      <td>0.731476</td>\n",
       "      <td>28860</td>\n",
       "      <td>23974.457600</td>\n",
       "      <td>0.755982</td>\n",
       "    </tr>\n",
       "    <tr>\n",
       "      <th>2</th>\n",
       "      <td>Fat-Tree</td>\n",
       "      <td>3</td>\n",
       "      <td>16288.457600</td>\n",
       "      <td>0.564983</td>\n",
       "      <td>28890</td>\n",
       "      <td>19177.457600</td>\n",
       "      <td>0.604719</td>\n",
       "    </tr>\n",
       "    <tr>\n",
       "      <th>3</th>\n",
       "      <td>Fat-Tree</td>\n",
       "      <td>4</td>\n",
       "      <td>13888.457600</td>\n",
       "      <td>0.481736</td>\n",
       "      <td>28920</td>\n",
       "      <td>16780.457600</td>\n",
       "      <td>0.529135</td>\n",
       "    </tr>\n",
       "    <tr>\n",
       "      <th>4</th>\n",
       "      <td>Fat-Tree</td>\n",
       "      <td>5</td>\n",
       "      <td>12448.457600</td>\n",
       "      <td>0.431788</td>\n",
       "      <td>28950</td>\n",
       "      <td>15343.457600</td>\n",
       "      <td>0.483822</td>\n",
       "    </tr>\n",
       "    <tr>\n",
       "      <th>...</th>\n",
       "      <td>...</td>\n",
       "      <td>...</td>\n",
       "      <td>...</td>\n",
       "      <td>...</td>\n",
       "      <td>...</td>\n",
       "      <td>...</td>\n",
       "      <td>...</td>\n",
       "    </tr>\n",
       "    <tr>\n",
       "      <th>19995</th>\n",
       "      <td>Jellyfish</td>\n",
       "      <td>9996</td>\n",
       "      <td>8637.163522</td>\n",
       "      <td>0.299589</td>\n",
       "      <td>328680</td>\n",
       "      <td>41505.163522</td>\n",
       "      <td>1.308774</td>\n",
       "    </tr>\n",
       "    <tr>\n",
       "      <th>19996</th>\n",
       "      <td>Jellyfish</td>\n",
       "      <td>9997</td>\n",
       "      <td>8636.968593</td>\n",
       "      <td>0.299583</td>\n",
       "      <td>328710</td>\n",
       "      <td>41507.968593</td>\n",
       "      <td>1.308863</td>\n",
       "    </tr>\n",
       "    <tr>\n",
       "      <th>19997</th>\n",
       "      <td>Jellyfish</td>\n",
       "      <td>9998</td>\n",
       "      <td>8636.773702</td>\n",
       "      <td>0.299576</td>\n",
       "      <td>328740</td>\n",
       "      <td>41510.773702</td>\n",
       "      <td>1.308951</td>\n",
       "    </tr>\n",
       "    <tr>\n",
       "      <th>19998</th>\n",
       "      <td>Jellyfish</td>\n",
       "      <td>9999</td>\n",
       "      <td>8636.578851</td>\n",
       "      <td>0.299569</td>\n",
       "      <td>328770</td>\n",
       "      <td>41513.578851</td>\n",
       "      <td>1.309040</td>\n",
       "    </tr>\n",
       "    <tr>\n",
       "      <th>19999</th>\n",
       "      <td>Jellyfish</td>\n",
       "      <td>10000</td>\n",
       "      <td>8636.384039</td>\n",
       "      <td>0.299562</td>\n",
       "      <td>328800</td>\n",
       "      <td>41516.384039</td>\n",
       "      <td>1.309128</td>\n",
       "    </tr>\n",
       "  </tbody>\n",
       "</table>\n",
       "<p>20000 rows × 7 columns</p>\n",
       "</div>"
      ],
      "text/plain": [
       "            kind      N             R  R_scaled   Theta             S  \\\n",
       "0       Fat-Tree      1  35488.457600  1.230956   28830  38371.457600   \n",
       "1       Fat-Tree      2  21088.457600  0.731476   28860  23974.457600   \n",
       "2       Fat-Tree      3  16288.457600  0.564983   28890  19177.457600   \n",
       "3       Fat-Tree      4  13888.457600  0.481736   28920  16780.457600   \n",
       "4       Fat-Tree      5  12448.457600  0.431788   28950  15343.457600   \n",
       "...          ...    ...           ...       ...     ...           ...   \n",
       "19995  Jellyfish   9996   8637.163522  0.299589  328680  41505.163522   \n",
       "19996  Jellyfish   9997   8636.968593  0.299583  328710  41507.968593   \n",
       "19997  Jellyfish   9998   8636.773702  0.299576  328740  41510.773702   \n",
       "19998  Jellyfish   9999   8636.578851  0.299569  328770  41513.578851   \n",
       "19999  Jellyfish  10000   8636.384039  0.299562  328800  41516.384039   \n",
       "\n",
       "       S_scaled  \n",
       "0      1.209960  \n",
       "1      0.755982  \n",
       "2      0.604719  \n",
       "3      0.529135  \n",
       "4      0.483822  \n",
       "...         ...  \n",
       "19995  1.308774  \n",
       "19996  1.308863  \n",
       "19997  1.308951  \n",
       "19998  1.309040  \n",
       "19999  1.309128  \n",
       "\n",
       "[20000 rows x 7 columns]"
      ]
     },
     "execution_count": 106,
     "metadata": {},
     "output_type": "execute_result"
    }
   ],
   "source": [
    "# E[Theta]\n",
    "mean_server_time = lambda N: N *constants.setup_time + constants.mean_total_compute_time\n",
    "\n",
    "trials['Theta'] = trials.N.map(mean_server_time)\n",
    "trials['S'] = trials.R + constants.xi * trials.Theta\n",
    "\n",
    "S_baseline = R_baseline + constants.xi * mean_server_time(1)\n",
    "trials['S_scaled'] = trials.S / S_baseline\n",
    "\n",
    "trials"
   ]
  },
  {
   "cell_type": "code",
   "execution_count": 107,
   "metadata": {},
   "outputs": [
    {
     "data": {
      "text/plain": [
       "Text(9000, 0.95, 'baseline')"
      ]
     },
     "execution_count": 107,
     "metadata": {},
     "output_type": "execute_result"
    },
    {
     "data": {
      "image/png": "[encoded data removed]",
      "text/plain": [
       "<Figure size 640x480 with 1 Axes>"
      ]
     },
     "metadata": {},
     "output_type": "display_data"
    }
   ],
   "source": [
    "ax = sns.lineplot(\n",
    "    trials, \n",
    "    x = 'N', \n",
    "    y = 'S_scaled',\n",
    "    hue='kind',\n",
    "    palette='muted'\n",
    ")\n",
    "ax.set(\n",
    "    title = 'Job Cost as a function of N',\n",
    "    ylabel = 'cost'\n",
    ")\n",
    "plt.axhline(y=1, color=baseline_color, linestyle = '--')\n",
    "plt.annotate('baseline', xy = (9000, .95), color = baseline_color)\n"
   ]
  },
  {
   "cell_type": "markdown",
   "metadata": {
    "tags": []
   },
   "source": [
    "## 2.4 Analysis\n",
    "Let $n$ denote the number of ports in a router and $k = n/2$.\n"
   ]
  },
  {
   "cell_type": "markdown",
   "metadata": {},
   "source": [
    "### Spikes\n",
    "We note that there are some spikes in the graph, specifically the first is at 31. This is because any node has $k - 1 = 31$ immediate neighbours (at 2 hops of distance):\n",
    "\n",
    "```\n",
    "        [ ]\n",
    "        /|\\\n",
    "      a1...ak\n",
    "```\n",
    "\n",
    "After the 31 most immediate neighbours we need to contact further away nodes and as such the RTT increments greatly. Let $h_{max}(n)$ denote the maximum number of hops we need to perform to contact at least n different nodes, then:\n",
    "-  $h_{max}(32) = 3$ for Jellyfish topology.\n",
    "-  $h_{max}(32) = 4$ for Fat-Tree topology\n",
    "\n",
    "In fact the next spikes are when the topology requires us to increase $h_{max}$ again, which is at $k^2 + k - 1$ for the _Jellyfish_ and $k^2 - 1$ for the _Fat-Tree_.\n",
    "\n",
    "The fact that the _Jellyfish_ topology is better then _Fat-Tree_ in terms of $h_{max}(\\cdot)$ is not a surprise since the point of using a r-regular random graph is exactly to reduce the average shortest path length between two nodes.  "
   ]
  },
  {
   "cell_type": "code",
   "execution_count": 149,
   "metadata": {},
   "outputs": [
    {
     "data": {
      "text/plain": [
       "<matplotlib.lines.Line2D at 0x7f8de0db79d0>"
      ]
     },
     "execution_count": 149,
     "metadata": {},
     "output_type": "execute_result"
    },
    {
     "data": {
      "image/png": "[encoded data removed]",
      "text/plain": [
       "<Figure size 640x480 with 1 Axes>"
      ]
     },
     "metadata": {},
     "output_type": "display_data"
    }
   ],
   "source": [
    "ax = sns.lineplot(\n",
    "    trials[trials.N < 50], \n",
    "    x = 'N', \n",
    "    y = 'R_scaled',\n",
    "    hue = 'kind'\n",
    ")\n",
    "ax.set(\n",
    "    title = 'Response Time as a function of N',\n",
    "    ylabel = 'Response time'\n",
    ")\n",
    "plt.axhline(y=1, color=baseline_color, linestyle = '--')\n",
    "plt.annotate('baseline', xy = (45, .95), color = baseline_color)\n",
    "\n",
    "red_muted = sns.color_palette('muted')[3]\n",
    "plt.annotate('31', xy = (29, .8), color = red_muted)\n",
    "plt.axvline(x=31, color=red_muted, linestyle = ':')"
   ]
  },
  {
   "cell_type": "code",
   "execution_count": 151,
   "metadata": {},
   "outputs": [
    {
     "data": {
      "text/plain": [
       "Text(1056, 0.8, 'k^2+k-1')"
      ]
     },
     "execution_count": 151,
     "metadata": {},
     "output_type": "execute_result"
    },
    {
     "data": {
      "image/png": "[encoded data removed]",
      "text/plain": [
       "<Figure size 640x480 with 1 Axes>"
      ]
     },
     "metadata": {},
     "output_type": "display_data"
    }
   ],
   "source": [
    "ax = sns.lineplot(\n",
    "    trials[(1000 < trials.N) & (trials.N < 1100)], \n",
    "    x = 'N', \n",
    "    y = 'R_scaled',\n",
    "    hue = 'kind'\n",
    ")\n",
    "ax.set(\n",
    "    title = 'Response Time as a function of N',\n",
    "    ylabel = 'Response time'\n",
    ")\n",
    "plt.axhline(y=1, color=baseline_color, linestyle = '--')\n",
    "plt.annotate('baseline', xy = (45, .95), color = baseline_color)\n",
    "\n",
    "red_muted = sns.color_palette('muted')[3]\n",
    "plt.axvline(x=k**2-1, color=red_muted, linestyle = ':')\n",
    "plt.annotate('k^2-1', xy = (k**2, .8), color = red_muted)\n",
    "plt.axvline(x=k-1+k**2, color=red_muted, linestyle = ':')\n",
    "plt.annotate('k^2+k-1', xy = (k+k**2, .8), color = red_muted)"
   ]
  },
  {
   "cell_type": "markdown",
   "metadata": {},
   "source": [
    "### Best cost\n",
    "\n",
    "As expected from the spikes and since the term $E[\\Theta]$ is linear in $n$ the best cost is reached early on: at $N=31$ we find the best cost both for _Jellyfish_ and _Fat-Tree_. \n",
    "\n",
    "This is expected due to the spikes in $R$ that we previously analyzed."
   ]
  },
  {
   "cell_type": "code",
   "execution_count": 143,
   "metadata": {},
   "outputs": [
    {
     "data": {
      "text/html": [
       "<div>\n",
       "<style scoped>\n",
       "    .dataframe tbody tr th:only-of-type {\n",
       "        vertical-align: middle;\n",
       "    }\n",
       "\n",
       "    .dataframe tbody tr th {\n",
       "        vertical-align: top;\n",
       "    }\n",
       "\n",
       "    .dataframe thead th {\n",
       "        text-align: right;\n",
       "    }\n",
       "</style>\n",
       "<table border=\"1\" class=\"dataframe\">\n",
       "  <thead>\n",
       "    <tr style=\"text-align: right;\">\n",
       "      <th></th>\n",
       "      <th>kind</th>\n",
       "      <th>N</th>\n",
       "      <th>R</th>\n",
       "      <th>R_scaled</th>\n",
       "      <th>Theta</th>\n",
       "      <th>S</th>\n",
       "      <th>S_scaled</th>\n",
       "    </tr>\n",
       "  </thead>\n",
       "  <tbody>\n",
       "    <tr>\n",
       "      <th>30</th>\n",
       "      <td>Fat-Tree</td>\n",
       "      <td>31</td>\n",
       "      <td>7617.489858</td>\n",
       "      <td>0.264221</td>\n",
       "      <td>29730</td>\n",
       "      <td>10590.489858</td>\n",
       "      <td>0.333948</td>\n",
       "    </tr>\n",
       "    <tr>\n",
       "      <th>10030</th>\n",
       "      <td>Jellyfish</td>\n",
       "      <td>31</td>\n",
       "      <td>7617.489858</td>\n",
       "      <td>0.264221</td>\n",
       "      <td>29730</td>\n",
       "      <td>10590.489858</td>\n",
       "      <td>0.333948</td>\n",
       "    </tr>\n",
       "  </tbody>\n",
       "</table>\n",
       "</div>"
      ],
      "text/plain": [
       "            kind   N            R  R_scaled  Theta             S  S_scaled\n",
       "30      Fat-Tree  31  7617.489858  0.264221  29730  10590.489858  0.333948\n",
       "10030  Jellyfish  31  7617.489858  0.264221  29730  10590.489858  0.333948"
      ]
     },
     "execution_count": 143,
     "metadata": {},
     "output_type": "execute_result"
    }
   ],
   "source": [
    "best_cost = trials.S.min()\n",
    "\n",
    "trials[trials.S == best_cost]"
   ]
  },
  {
   "cell_type": "markdown",
   "metadata": {},
   "source": [
    "### Best time\n",
    "The best time is obtained by the _Jellyfish_ topology right before the 2-nd spike of $R$."
   ]
  },
  {
   "cell_type": "code",
   "execution_count": 146,
   "metadata": {},
   "outputs": [
    {
     "data": {
      "text/html": [
       "<div>\n",
       "<style scoped>\n",
       "    .dataframe tbody tr th:only-of-type {\n",
       "        vertical-align: middle;\n",
       "    }\n",
       "\n",
       "    .dataframe tbody tr th {\n",
       "        vertical-align: top;\n",
       "    }\n",
       "\n",
       "    .dataframe thead th {\n",
       "        text-align: right;\n",
       "    }\n",
       "</style>\n",
       "<table border=\"1\" class=\"dataframe\">\n",
       "  <thead>\n",
       "    <tr style=\"text-align: right;\">\n",
       "      <th></th>\n",
       "      <th>kind</th>\n",
       "      <th>N</th>\n",
       "      <th>R</th>\n",
       "      <th>R_scaled</th>\n",
       "      <th>Theta</th>\n",
       "      <th>S</th>\n",
       "      <th>S_scaled</th>\n",
       "    </tr>\n",
       "  </thead>\n",
       "  <tbody>\n",
       "    <tr>\n",
       "      <th>11054</th>\n",
       "      <td>Jellyfish</td>\n",
       "      <td>1055</td>\n",
       "      <td>6813.581859</td>\n",
       "      <td>0.236337</td>\n",
       "      <td>60450</td>\n",
       "      <td>12858.581859</td>\n",
       "      <td>0.405467</td>\n",
       "    </tr>\n",
       "  </tbody>\n",
       "</table>\n",
       "</div>"
      ],
      "text/plain": [
       "            kind     N            R  R_scaled  Theta             S  S_scaled\n",
       "11054  Jellyfish  1055  6813.581859  0.236337  60450  12858.581859  0.405467"
      ]
     },
     "execution_count": 146,
     "metadata": {},
     "output_type": "execute_result"
    }
   ],
   "source": [
    "best_time = trials.R.min()\n",
    "\n",
    "trials[trials.R == best_time]"
   ]
  },
  {
   "cell_type": "markdown",
   "metadata": {},
   "source": [
    "### Overall considerations\n",
    "Overall the _Jellyfish_ topology performs better and cheaper than the _Fat-Tree_.\n"
   ]
  },
  {
   "cell_type": "code",
   "execution_count": null,
   "metadata": {},
   "outputs": [],
   "source": []
  }
 ],
 "metadata": {
  "kernelspec": {
   "display_name": "Python 3 (ipykernel)",
   "language": "python",
   "name": "python3"
  },
  "language_info": {
   "codemirror_mode": {
    "name": "ipython",
    "version": 3
   },
   "file_extension": ".py",
   "mimetype": "text/x-python",
   "name": "python",
   "nbconvert_exporter": "python",
   "pygments_lexer": "ipython3",
   "version": "3.10.10"
  }
 },
 "nbformat": 4,
 "nbformat_minor": 4
}
