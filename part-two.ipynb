{
 "cells": [
  {
   "cell_type": "markdown",
   "metadata": {},
   "source": [
    "# Part 2 - Network load evaluation\n"
   ]
  },
  {
   "cell_type": "code",
   "execution_count": null,
   "metadata": {},
   "outputs": [],
   "source": [
    "%load_ext autoreload\n",
    "%autoreload 2\n",
    "import numpy as np \n",
    "import seaborn as sns\n",
    "import matplotlib.pyplot as plt \n",
    "\n",
    "from package import constants\n",
    "from package.connectivity import bfs_is_connected\n",
    "# from networkx import erdos_renyi_graph, random_regular_graph, adjacency_matrix\n",
    "import networkx as nx\n",
    "\n",
    "N = 10000"
   ]
  },
  {
   "cell_type": "markdown",
   "metadata": {},
   "source": [
    "## 2.1"
   ]
  },
  {
   "cell_type": "code",
   "execution_count": null,
   "metadata": {},
   "outputs": [],
   "source": [
    "k = constants.n_ports//2\n",
    "# create core random routers graph\n",
    "rrg = nx.random_regular_graph(d = k, n=N//k+1)\n",
    "\n",
    "# add endpoints\n",
    "for n in list(rrg.nodes()):\n",
    "    endnodes = range(-n*k-1,-(n+1)*k-1,-1)\n",
    "    rrg.add_nodes_from(endnodes, server=True)\n",
    "    rrg.add_edges_from(zip([n]*k,endnodes))\n",
    "rrg_servers = leaves(rrg)\n",
    "\n",
    "# when considering only the number of jumps between two different servers, a fat-tree is equivalent to a tree\n",
    "ft = nx.full_rary_tree(r = k, n=(k*N - 1)//(k-1) + 1)\n"
   ]
  },
  {
   "cell_type": "code",
   "execution_count": null,
   "metadata": {},
   "outputs": [],
   "source": [
    "def leaves(G: nx.Graph) -> list:\n",
    "    '''Counts the number of leaves in an undirected graph'''\n",
    "    leaves = [x for x in G.nodes() if G.degree(x)==1]\n",
    "    return leaves\n",
    "\n",
    "ft_servers = leaves(ft)\n",
    "ft.add_nodes_from(ft, server=True)\n"
   ]
  },
  {
   "cell_type": "code",
   "execution_count": null,
   "metadata": {},
   "outputs": [],
   "source": [
    "def n_closest(g: nx.Graph, src: int, n: int, targets: set = None) -> list :\n",
    "    sp = nx.single_source_shortest_path_length(rrg, src)\n",
    "    del sp[src]\n",
    "    servers = {k for k,v in rrg.nodes(data=True) if 'server' in v} if targets is None else targets\n",
    "    sp_servers = {k:sp[k] for k in sp.keys() & servers}\n",
    "    \n",
    "    return dict(sorted(sp_servers.items(), key=lambda item: item[1]))\n",
    "\n",
    "n_closest(rrg, -1, 10)"
   ]
  },
  {
   "cell_type": "code",
   "execution_count": null,
   "metadata": {},
   "outputs": [],
   "source": [
    "servers = {k for k,v in rrg.nodes(data=True) if 'type' in v} \n",
    "servers"
   ]
  }
 ],
 "metadata": {
  "kernelspec": {
   "display_name": "Python 3 (ipykernel)",
   "language": "python",
   "name": "python3"
  },
  "language_info": {
   "codemirror_mode": {
    "name": "ipython",
    "version": 3
   },
   "file_extension": ".py",
   "mimetype": "text/x-python",
   "name": "python",
   "nbconvert_exporter": "python",
   "pygments_lexer": "ipython3",
   "version": "3.10.10"
  }
 },
 "nbformat": 4,
 "nbformat_minor": 4
}
